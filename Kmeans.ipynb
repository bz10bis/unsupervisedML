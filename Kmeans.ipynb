{
 "cells": [
  {
   "cell_type": "code",
   "execution_count": 331,
   "metadata": {},
   "outputs": [],
   "source": [
    "import matplotlib.pyplot as plt\n",
    "import numpy as np\n",
    "from math import sqrt\n",
    "import random\n",
    "import matplotlib.cm as cm"
   ]
  },
  {
   "cell_type": "code",
   "execution_count": 332,
   "metadata": {},
   "outputs": [],
   "source": [
    "class Point(object):\n",
    "    def __init__(self, t_features, t_label):\n",
    "        self.features = t_features\n",
    "        self.label = t_label\n",
    "        "
   ]
  },
  {
   "cell_type": "code",
   "execution_count": 333,
   "metadata": {},
   "outputs": [],
   "source": [
    "class KMeans(object):\n",
    "    def __init__(self, t_nbr_cluster, t_nbr_data, t_min_x, t_max_x):\n",
    "        self.nbr_cluster = t_nbr_cluster\n",
    "        self.min_x = t_min_x\n",
    "        self.max_x = t_max_x\n",
    "        self.nbr_data = t_nbr_data\n",
    "        #self.color_dict = cm.rainbow(np.linspace(0, 1, self.nbr_cluster))\n",
    "        self.color_dict = { 0 : 'red', 1 : 'blue', 2 :'green'}\n",
    "        \n",
    "        self.X = self.load_data()\n",
    "        self.centroid_index = self.get_random_centroid_index()\n",
    "        self.centroid = self.get_centroid()\n",
    "        self.update_colors()\n",
    "        \n",
    "    def load_data(self):\n",
    "        points = list()\n",
    "        generated_points = sklearn.datasets.samples_generator.make_blobs(n_samples=self.nbr_data,\n",
    "                                                        centers=self.nbr_cluster,\n",
    "                                                        n_features=2, random_state=0,\n",
    "                                                        center_box=(self.min_x, self.max_x))\n",
    "        for i,x in enumerate(generated_points[0]):\n",
    "            points.append(Point(x, random.choice(generated_points[1])))\n",
    "        return points\n",
    "        \n",
    "    def draw(self):\n",
    "        for point in self.X:\n",
    "            plt.scatter(point.features[0], point.features[1], color='blue')\n",
    "        for x in self.centroid_index:\n",
    "            plt.scatter(self.X[x].features[0], self.X[x].features[1], color='red')\n",
    "        \n",
    "    def get_random_centroid_index(self):\n",
    "        return [np.random.randint(0, self.nbr_data) for x in range(self.nbr_cluster)]\n",
    "    \n",
    "    def get_centroid(self):\n",
    "        return [self.X[i] for i in self.centroid_index]\n",
    "    \n",
    "    def calc_distance(self, point, centroid):\n",
    "        dist_sum = 0\n",
    "        for i,f in enumerate(point.features):\n",
    "            dist_sum += (f - centroid.features[i]) ** 2 \n",
    "        return sqrt(dist_sum)\n",
    "    \n",
    "    def update_centroids(self):\n",
    "        for c in self.centroid:\n",
    "            for i,f in enumerate(c.features):\n",
    "                feat_sum = 0\n",
    "                points = [x for x in self.X if x.label == c.label]\n",
    "                for p in points:\n",
    "                    feat_sum += p.features[i]  \n",
    "                c.features[i] = feat_sum / len(points)\n",
    "\n",
    "        \n",
    "    def update_labels(self):\n",
    "        distances = list()\n",
    "        for i,x in enumerate(self.X):\n",
    "            current_label = x.label\n",
    "            centroid_list = list()\n",
    "            for c in self.centroid:\n",
    "                    centroid_list.append(self.calc_distance(x, c))\n",
    "            distances.append(centroid_list)\n",
    "            if current_label != distances[i].index(min(distances[i])):\n",
    "                x.label = distances[i].index(min(distances[i]))                   \n",
    "     \n",
    "    def update_colors(self):\n",
    "        for point in self.X: \n",
    "            plt.scatter(point.features[0], point.features[1], color=self.color_dict[point.label])\n",
    "        for c in self.centroid:\n",
    "            plt.scatter(c.features[0], c.features[1], marker='+', color=self.color_dict[c.label], s=200)\n",
    "            \n",
    "    def iterate(self, nbr_it):\n",
    "        for i in range(nbr_it):\n",
    "            self.update_centroids()\n",
    "            self.update_labels()"
   ]
  },
  {
   "cell_type": "code",
   "execution_count": 334,
   "metadata": {},
   "outputs": [
    {
     "data": {
      "text/plain": [
       "[43, 2, 16]"
      ]
     },
     "execution_count": 334,
     "metadata": {},
     "output_type": "execute_result"
    },
    {
     "data": {
      "image/png": "[encoded data removed]",
      "text/plain": [
       "<matplotlib.figure.Figure at 0x23ce7858e80>"
      ]
     },
     "metadata": {},
     "output_type": "display_data"
    }
   ],
   "source": [
    "testkm = KMeans(3, 50, 0, 50)\n",
    "testkm.draw()\n",
    "testkm.centroid_index\n",
    "#testkm.X[0].shape[0]"
   ]
  },
  {
   "cell_type": "code",
   "execution_count": 335,
   "metadata": {},
   "outputs": [],
   "source": [
    "testkm.update_labels()\n",
    "#for x in testkm.X:\n",
    "#    print(x.label)"
   ]
  },
  {
   "cell_type": "code",
   "execution_count": 336,
   "metadata": {},
   "outputs": [
    {
     "data": {
      "text/plain": [
       "3"
      ]
     },
     "execution_count": 336,
     "metadata": {},
     "output_type": "execute_result"
    }
   ],
   "source": [
    "testarray = [28, 56, 8, 1, 5]\n",
    "testarray.index(min(testarray))"
   ]
  },
  {
   "cell_type": "code",
   "execution_count": null,
   "metadata": {},
   "outputs": [],
   "source": []
  },
  {
   "cell_type": "code",
   "execution_count": null,
   "metadata": {},
   "outputs": [],
   "source": []
  },
  {
   "cell_type": "code",
   "execution_count": 337,
   "metadata": {},
   "outputs": [
    {
     "data": {
      "image/png": "[encoded data removed]",
      "text/plain": [
       "<matplotlib.figure.Figure at 0x23ce8a05908>"
      ]
     },
     "metadata": {},
     "output_type": "display_data"
    }
   ],
   "source": [
    "testkm.update_labels()\n",
    "testkm.update_colors()"
   ]
  },
  {
   "cell_type": "code",
   "execution_count": 338,
   "metadata": {},
   "outputs": [],
   "source": [
    "testkm.iterate(1000)"
   ]
  },
  {
   "cell_type": "code",
   "execution_count": 339,
   "metadata": {},
   "outputs": [
    {
     "data": {
      "image/png": "[encoded data removed]",
      "text/plain": [
       "<matplotlib.figure.Figure at 0x23ce8ab0048>"
      ]
     },
     "metadata": {},
     "output_type": "display_data"
    }
   ],
   "source": [
    "testkm.update_colors()"
   ]
  },
  {
   "cell_type": "code",
   "execution_count": 340,
   "metadata": {},
   "outputs": [],
   "source": [
    "testkm.iterate(1000)"
   ]
  },
  {
   "cell_type": "code",
   "execution_count": 341,
   "metadata": {},
   "outputs": [
    {
     "data": {
      "image/png": "[encoded data removed]",
      "text/plain": [
       "<matplotlib.figure.Figure at 0x23ce8ad4be0>"
      ]
     },
     "metadata": {},
     "output_type": "display_data"
    }
   ],
   "source": [
    "testkm.update_colors()"
   ]
  },
  {
   "cell_type": "code",
   "execution_count": null,
   "metadata": {},
   "outputs": [],
   "source": []
  }
 ],
 "metadata": {
  "kernelspec": {
   "display_name": "Python 3",
   "language": "python",
   "name": "python3"
  },
  "language_info": {
   "codemirror_mode": {
    "name": "ipython",
    "version": 3
   },
   "file_extension": ".py",
   "mimetype": "text/x-python",
   "name": "python",
   "nbconvert_exporter": "python",
   "pygments_lexer": "ipython3",
   "version": "3.5.4"
  }
 },
 "nbformat": 4,
 "nbformat_minor": 2
}
