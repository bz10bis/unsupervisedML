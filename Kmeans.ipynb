{
 "cells": [
  {
   "cell_type": "code",
   "execution_count": 68,
   "metadata": {},
   "outputs": [],
   "source": [
    "import matplotlib.pyplot as plt\n",
    "import numpy as np\n",
    "from math import sqrt\n",
    "import random\n",
    "import matplotlib.cm as cm\n",
    "from keras.datasets import mnist\n",
    "import progressbar"
   ]
  },
  {
   "cell_type": "code",
   "execution_count": 69,
   "metadata": {
    "collapsed": true
   },
   "outputs": [],
   "source": [
    "class Point(object):\n",
    "    def __init__(self, t_features, t_label):\n",
    "        self.features = t_features\n",
    "        self.label = t_label\n",
    "        \n",
    "    def __eq__(self, other):\n",
    "        for i,f in enumerate(self.features):\n",
    "            if f != other.features[i]:\n",
    "                return False\n",
    "        return True\n",
    "    \n",
    "    def __ne__(self, other):\n",
    "        for i,f in enumerate(self.features):\n",
    "            if f != other.features[i]:\n",
    "                return True\n",
    "        return False"
   ]
  },
  {
   "cell_type": "code",
   "execution_count": 70,
   "metadata": {},
   "outputs": [],
   "source": [
    "class KMeans(object):\n",
    "    def __init__(self, t_nbr_cluster, t_min_x, t_max_x):\n",
    "        self.nbr_cluster = t_nbr_cluster\n",
    "        self.min_x = t_min_x\n",
    "        self.max_x = t_max_x\n",
    "        #self.color_dict = cm.rainbow(np.linspace(0, 1, self.nbr_cluster))\n",
    "        self.color_dict = { 0 : 'red', 1 : 'blue', 2 :'green'}\n",
    "        #self.X = self.load_data()\n",
    "        nbr_z = 0\n",
    "        nbr_o = 0\n",
    "        self.X = self.load_mnist_data()\n",
    "        for x in self.X:\n",
    "            if x.label == 1:\n",
    "                nbr_o += 1\n",
    "            else:\n",
    "                nbr_z += 1\n",
    "        \n",
    "        print(nbr_z)\n",
    "        print(nbr_o)\n",
    "        self.nbr_data = len(self.X)\n",
    "        print(self.nbr_data)\n",
    "        self.centroid_index = self.get_random_centroid_index()\n",
    "        self.centroid = self.get_centroid()\n",
    "        self.update_colors()\n",
    "        \n",
    "    def load_data(self):\n",
    "        points = list()\n",
    "        generated_points = sklearn.datasets.samples_generator.make_blobs(n_samples=self.nbr_data,\n",
    "                                                        centers=self.nbr_cluster,\n",
    "                                                        n_features=2, random_state=0,\n",
    "                                                        center_box=(self.min_x, self.max_x))\n",
    "        for i,x in enumerate(generated_points[0]):\n",
    "            points.append(Point(x, random.choice(generated_points[1])))\n",
    "        return points\n",
    "    \n",
    "    def load_mnist_data(self):\n",
    "        points = list()\n",
    "        (x_train, y_train), (x_test, y_test) = mnist.load_data()\n",
    "        for i,x in enumerate(x_train[:500]):\n",
    "            if y_train[i] == 1 or y_train[i] == 0:\n",
    "                x = x.flatten()\n",
    "                points.append(Point(x, y_train[i]))\n",
    "        return points\n",
    "        \n",
    "    def draw(self):\n",
    "        for point in self.X:\n",
    "            plt.scatter(point.features[0], point.features[1], color='blue')\n",
    "        for x in self.centroid_index:\n",
    "            plt.scatter(self.X[x].features[0], self.X[x].features[1], color='red')\n",
    "        \n",
    "    def get_random_centroid_index(self):\n",
    "        return [np.random.randint(0, self.nbr_data) for x in range(self.nbr_cluster)]\n",
    "    \n",
    "    def get_centroid(self):\n",
    "        return [self.X[i] for i in self.centroid_index]\n",
    "    \n",
    "    def calc_distance(self, point, centroid):\n",
    "        dist_sum = 0\n",
    "        for i,f in enumerate(point.features):\n",
    "            dist_sum += (float(f) - float(centroid.features[i])) ** 2 \n",
    "        return sqrt(dist_sum)\n",
    "    \n",
    "    def update_centroids(self):\n",
    "        for c in self.centroid:\n",
    "            for i,f in enumerate(c.features):\n",
    "                feat_sum = 0\n",
    "                points = [x for x in self.X if x.label == c.label]\n",
    "                for p in points:\n",
    "                    feat_sum += p.features[i]  \n",
    "                c.features[i] = feat_sum / len(points)\n",
    "\n",
    "        \n",
    "    def update_labels(self):\n",
    "        distances = list()\n",
    "        for i,x in enumerate(self.X):\n",
    "            current_label = x.label\n",
    "            centroid_list = list()\n",
    "            for c in self.centroid:\n",
    "                    centroid_list.append(self.calc_distance(x, c))\n",
    "            distances.append(centroid_list)\n",
    "            if current_label != distances[i].index(min(distances[i])):\n",
    "                x.label = distances[i].index(min(distances[i]))                   \n",
    "     \n",
    "    def update_colors(self):\n",
    "        for point in self.X: \n",
    "            plt.scatter(point.features[0], point.features[1], color=self.color_dict[point.label])\n",
    "        for c in self.centroid:\n",
    "            plt.scatter(c.features[0], c.features[1], marker='+', color=self.color_dict[c.label], s=200)\n",
    "            \n",
    "    def iterate(self):\n",
    "        max_val = 100\n",
    "        with progressbar.ProgressBar(max_value=max_val) as bar:\n",
    "            continue_iteration = True\n",
    "            i = 0\n",
    "            while continue_iteration:\n",
    "                old_centroid = self.centroid\n",
    "                self.update_centroids()\n",
    "                self.update_labels()\n",
    "                i += 1\n",
    "                bar.update(i)\n",
    "                if i >= max_val:\n",
    "                    print(\"Timeout too much iteration\")\n",
    "                    continue_iteration = False"
   ]
  },
  {
   "cell_type": "code",
   "execution_count": 71,
   "metadata": {
    "scrolled": true
   },
   "outputs": [
    {
     "name": "stdout",
     "output_type": "stream",
     "text": [
      "50\n",
      "66\n",
      "116\n"
     ]
    },
    {
     "data": {
      "text/plain": [
       "[36, 83]"
      ]
     },
     "execution_count": 71,
     "metadata": {},
     "output_type": "execute_result"
    }
   ],
   "source": [
    "testkm = KMeans(2, 0, 50)\n",
    "testkm.draw()\n",
    "testkm.centroid_index"
   ]
  },
  {
   "cell_type": "code",
   "execution_count": 72,
   "metadata": {},
   "outputs": [
    {
     "name": "stderr",
     "output_type": "stream",
     "text": [
      "100% (100 of 100) |#############################################################################################| Elapsed Time: 0:00:18 Time: 0:00:18\n"
     ]
    },
    {
     "name": "stdout",
     "output_type": "stream",
     "text": [
      "Timeout too much iteration\n"
     ]
    }
   ],
   "source": [
    "testkm.iterate()"
   ]
  },
  {
   "cell_type": "code",
   "execution_count": 73,
   "metadata": {},
   "outputs": [
    {
     "name": "stdout",
     "output_type": "stream",
     "text": [
      "48\n",
      "68\n"
     ]
    }
   ],
   "source": [
    "nbr_z = 0\n",
    "nbr_o = 0\n",
    "for x in testkm.X:\n",
    "    if x.label == 1:\n",
    "        nbr_o += 1\n",
    "    else:\n",
    "        nbr_z += 1\n",
    "        \n",
    "print(nbr_z)\n",
    "print(nbr_o)"
   ]
  },
  {
   "cell_type": "code",
   "execution_count": null,
   "metadata": {
    "collapsed": true
   },
   "outputs": [],
   "source": []
  }
 ],
 "metadata": {
  "kernelspec": {
   "display_name": "Python 3",
   "language": "python",
   "name": "python3"
  },
  "language_info": {
   "codemirror_mode": {
    "name": "ipython",
    "version": 3
   },
   "file_extension": ".py",
   "mimetype": "text/x-python",
   "name": "python",
   "nbconvert_exporter": "python",
   "pygments_lexer": "ipython3",
   "version": "3.5.4"
  }
 },
 "nbformat": 4,
 "nbformat_minor": 2
}
