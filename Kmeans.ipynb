{
 "cells": [
  {
   "cell_type": "code",
   "execution_count": 14,
   "metadata": {},
   "outputs": [],
   "source": [
    "import matplotlib.pyplot as plt\n",
    "import numpy as np\n",
    "from math import sqrt\n",
    "import random\n",
    "import matplotlib.cm as cm\n",
    "from keras.datasets import mnist\n"
   ]
  },
  {
   "cell_type": "code",
   "execution_count": 15,
   "metadata": {},
   "outputs": [],
   "source": [
    "class Point(object):\n",
    "    def __init__(self, t_features, t_label):\n",
    "        self.features = t_features\n",
    "        self.label = t_label\n",
    "        \n",
    "    def __eq__(self, other):\n",
    "        for i,f in enumerate(self.features):\n",
    "            if f != other.features[i]:\n",
    "                return False\n",
    "        return True\n",
    "    \n",
    "    def __ne__(self, other):\n",
    "        for i,f in enumerate(self.features):\n",
    "            if f != other.features[i]:\n",
    "                return True\n",
    "        return False"
   ]
  },
  {
   "cell_type": "code",
   "execution_count": 16,
   "metadata": {},
   "outputs": [],
   "source": [
    "class KMeans(object):\n",
    "    def __init__(self, t_nbr_cluster, t_nbr_data, t_min_x, t_max_x):\n",
    "        self.nbr_cluster = t_nbr_cluster\n",
    "        self.min_x = t_min_x\n",
    "        self.max_x = t_max_x\n",
    "        self.nbr_data = t_nbr_data\n",
    "        #self.color_dict = cm.rainbow(np.linspace(0, 1, self.nbr_cluster))\n",
    "        self.color_dict = { 0 : 'red', 1 : 'blue', 2 :'green'}\n",
    "        \n",
    "        #self.X = self.load_data()\n",
    "        self.X = self.load_mnist_data()\n",
    "        self.centroid_index = self.get_random_centroid_index()\n",
    "        self.centroid = self.get_centroid()\n",
    "        self.update_colors()\n",
    "        \n",
    "    def load_data(self):\n",
    "        points = list()\n",
    "        generated_points = sklearn.datasets.samples_generator.make_blobs(n_samples=self.nbr_data,\n",
    "                                                        centers=self.nbr_cluster,\n",
    "                                                        n_features=2, random_state=0,\n",
    "                                                        center_box=(self.min_x, self.max_x))\n",
    "        for i,x in enumerate(generated_points[0]):\n",
    "            points.append(Point(x, random.choice(generated_points[1])))\n",
    "        return points\n",
    "    \n",
    "    def load_mnist_data(self):\n",
    "        points = list()\n",
    "        (x_train, y_train), (x_test, y_test) = mnist.load_data()\n",
    "        for i,x in enumerate(x_train[:500]):\n",
    "            if y_train[i] == 1 or y_train[i] == 0:\n",
    "                x = x.flatten()\n",
    "                points.append(Point(x, y_train[i]))\n",
    "        \n",
    "    def draw(self):\n",
    "        for point in self.X:\n",
    "            plt.scatter(point.features[0], point.features[1], color='blue')\n",
    "        for x in self.centroid_index:\n",
    "            plt.scatter(self.X[x].features[0], self.X[x].features[1], color='red')\n",
    "        \n",
    "    def get_random_centroid_index(self):\n",
    "        return [np.random.randint(0, self.nbr_data) for x in range(self.nbr_cluster)]\n",
    "    \n",
    "    def get_centroid(self):\n",
    "        return [self.X[i] for i in self.centroid_index]\n",
    "    \n",
    "    def calc_distance(self, point, centroid):\n",
    "        dist_sum = 0\n",
    "        for i,f in enumerate(point.features):\n",
    "            dist_sum += (f - centroid.features[i]) ** 2 \n",
    "        return sqrt(dist_sum)\n",
    "    \n",
    "    def update_centroids(self):\n",
    "        for c in self.centroid:\n",
    "            for i,f in enumerate(c.features):\n",
    "                feat_sum = 0\n",
    "                points = [x for x in self.X if x.label == c.label]\n",
    "                for p in points:\n",
    "                    feat_sum += p.features[i]  \n",
    "                c.features[i] = feat_sum / len(points)\n",
    "\n",
    "        \n",
    "    def update_labels(self):\n",
    "        distances = list()\n",
    "        for i,x in enumerate(self.X):\n",
    "            current_label = x.label\n",
    "            centroid_list = list()\n",
    "            for c in self.centroid:\n",
    "                    centroid_list.append(self.calc_distance(x, c))\n",
    "            distances.append(centroid_list)\n",
    "            if current_label != distances[i].index(min(distances[i])):\n",
    "                x.label = distances[i].index(min(distances[i]))                   \n",
    "     \n",
    "    def update_colors(self):\n",
    "        for point in self.X: \n",
    "            plt.scatter(point.features[0], point.features[1], color=self.color_dict[point.label])\n",
    "        for c in self.centroid:\n",
    "            plt.scatter(c.features[0], c.features[1], marker='+', color=self.color_dict[c.label], s=200)\n",
    "            \n",
    "    def iterate(self):\n",
    "        continue_iteration = True\n",
    "        i = 0\n",
    "        while continue_iteration:\n",
    "            old_centroid = self.centroid\n",
    "            self.update_centroids()\n",
    "            self.update_labels()\n",
    "            i += 1\n",
    "            if i >= 1000:\n",
    "                print(\"Timeout too much iteration\")\n",
    "                continue_iteration = False\n",
    "        self.update_colors()"
   ]
  },
  {
   "cell_type": "code",
   "execution_count": 17,
   "metadata": {},
   "outputs": [
    {
     "ename": "TypeError",
     "evalue": "'NoneType' object is not subscriptable",
     "output_type": "error",
     "traceback": [
      "\u001b[1;31m---------------------------------------------------------------------------\u001b[0m",
      "\u001b[1;31mTypeError\u001b[0m                                 Traceback (most recent call last)",
      "\u001b[1;32m<ipython-input-17-ba580d83c6a0>\u001b[0m in \u001b[0;36m<module>\u001b[1;34m()\u001b[0m\n\u001b[1;32m----> 1\u001b[1;33m \u001b[0mtestkm\u001b[0m \u001b[1;33m=\u001b[0m \u001b[0mKMeans\u001b[0m\u001b[1;33m(\u001b[0m\u001b[1;36m2\u001b[0m\u001b[1;33m,\u001b[0m \u001b[1;36m100\u001b[0m\u001b[1;33m,\u001b[0m \u001b[1;36m0\u001b[0m\u001b[1;33m,\u001b[0m \u001b[1;36m50\u001b[0m\u001b[1;33m)\u001b[0m\u001b[1;33m\u001b[0m\u001b[0m\n\u001b[0m\u001b[0;32m      2\u001b[0m \u001b[0mtestkm\u001b[0m\u001b[1;33m.\u001b[0m\u001b[0mdraw\u001b[0m\u001b[1;33m(\u001b[0m\u001b[1;33m)\u001b[0m\u001b[1;33m\u001b[0m\u001b[0m\n\u001b[0;32m      3\u001b[0m \u001b[0mtestkm\u001b[0m\u001b[1;33m.\u001b[0m\u001b[0mcentroid_index\u001b[0m\u001b[1;33m\u001b[0m\u001b[0m\n",
      "\u001b[1;32m<ipython-input-16-4f5482f5745b>\u001b[0m in \u001b[0;36m__init__\u001b[1;34m(self, t_nbr_cluster, t_nbr_data, t_min_x, t_max_x)\u001b[0m\n\u001b[0;32m     11\u001b[0m         \u001b[0mself\u001b[0m\u001b[1;33m.\u001b[0m\u001b[0mX\u001b[0m \u001b[1;33m=\u001b[0m \u001b[0mself\u001b[0m\u001b[1;33m.\u001b[0m\u001b[0mload_mnist_data\u001b[0m\u001b[1;33m(\u001b[0m\u001b[1;33m)\u001b[0m\u001b[1;33m\u001b[0m\u001b[0m\n\u001b[0;32m     12\u001b[0m         \u001b[0mself\u001b[0m\u001b[1;33m.\u001b[0m\u001b[0mcentroid_index\u001b[0m \u001b[1;33m=\u001b[0m \u001b[0mself\u001b[0m\u001b[1;33m.\u001b[0m\u001b[0mget_random_centroid_index\u001b[0m\u001b[1;33m(\u001b[0m\u001b[1;33m)\u001b[0m\u001b[1;33m\u001b[0m\u001b[0m\n\u001b[1;32m---> 13\u001b[1;33m         \u001b[0mself\u001b[0m\u001b[1;33m.\u001b[0m\u001b[0mcentroid\u001b[0m \u001b[1;33m=\u001b[0m \u001b[0mself\u001b[0m\u001b[1;33m.\u001b[0m\u001b[0mget_centroid\u001b[0m\u001b[1;33m(\u001b[0m\u001b[1;33m)\u001b[0m\u001b[1;33m\u001b[0m\u001b[0m\n\u001b[0m\u001b[0;32m     14\u001b[0m         \u001b[0mself\u001b[0m\u001b[1;33m.\u001b[0m\u001b[0mupdate_colors\u001b[0m\u001b[1;33m(\u001b[0m\u001b[1;33m)\u001b[0m\u001b[1;33m\u001b[0m\u001b[0m\n\u001b[0;32m     15\u001b[0m \u001b[1;33m\u001b[0m\u001b[0m\n",
      "\u001b[1;32m<ipython-input-16-4f5482f5745b>\u001b[0m in \u001b[0;36mget_centroid\u001b[1;34m(self)\u001b[0m\n\u001b[0;32m     42\u001b[0m \u001b[1;33m\u001b[0m\u001b[0m\n\u001b[0;32m     43\u001b[0m     \u001b[1;32mdef\u001b[0m \u001b[0mget_centroid\u001b[0m\u001b[1;33m(\u001b[0m\u001b[0mself\u001b[0m\u001b[1;33m)\u001b[0m\u001b[1;33m:\u001b[0m\u001b[1;33m\u001b[0m\u001b[0m\n\u001b[1;32m---> 44\u001b[1;33m         \u001b[1;32mreturn\u001b[0m \u001b[1;33m[\u001b[0m\u001b[0mself\u001b[0m\u001b[1;33m.\u001b[0m\u001b[0mX\u001b[0m\u001b[1;33m[\u001b[0m\u001b[0mi\u001b[0m\u001b[1;33m]\u001b[0m \u001b[1;32mfor\u001b[0m \u001b[0mi\u001b[0m \u001b[1;32min\u001b[0m \u001b[0mself\u001b[0m\u001b[1;33m.\u001b[0m\u001b[0mcentroid_index\u001b[0m\u001b[1;33m]\u001b[0m\u001b[1;33m\u001b[0m\u001b[0m\n\u001b[0m\u001b[0;32m     45\u001b[0m \u001b[1;33m\u001b[0m\u001b[0m\n\u001b[0;32m     46\u001b[0m     \u001b[1;32mdef\u001b[0m \u001b[0mcalc_distance\u001b[0m\u001b[1;33m(\u001b[0m\u001b[0mself\u001b[0m\u001b[1;33m,\u001b[0m \u001b[0mpoint\u001b[0m\u001b[1;33m,\u001b[0m \u001b[0mcentroid\u001b[0m\u001b[1;33m)\u001b[0m\u001b[1;33m:\u001b[0m\u001b[1;33m\u001b[0m\u001b[0m\n",
      "\u001b[1;32m<ipython-input-16-4f5482f5745b>\u001b[0m in \u001b[0;36m<listcomp>\u001b[1;34m(.0)\u001b[0m\n\u001b[0;32m     42\u001b[0m \u001b[1;33m\u001b[0m\u001b[0m\n\u001b[0;32m     43\u001b[0m     \u001b[1;32mdef\u001b[0m \u001b[0mget_centroid\u001b[0m\u001b[1;33m(\u001b[0m\u001b[0mself\u001b[0m\u001b[1;33m)\u001b[0m\u001b[1;33m:\u001b[0m\u001b[1;33m\u001b[0m\u001b[0m\n\u001b[1;32m---> 44\u001b[1;33m         \u001b[1;32mreturn\u001b[0m \u001b[1;33m[\u001b[0m\u001b[0mself\u001b[0m\u001b[1;33m.\u001b[0m\u001b[0mX\u001b[0m\u001b[1;33m[\u001b[0m\u001b[0mi\u001b[0m\u001b[1;33m]\u001b[0m \u001b[1;32mfor\u001b[0m \u001b[0mi\u001b[0m \u001b[1;32min\u001b[0m \u001b[0mself\u001b[0m\u001b[1;33m.\u001b[0m\u001b[0mcentroid_index\u001b[0m\u001b[1;33m]\u001b[0m\u001b[1;33m\u001b[0m\u001b[0m\n\u001b[0m\u001b[0;32m     45\u001b[0m \u001b[1;33m\u001b[0m\u001b[0m\n\u001b[0;32m     46\u001b[0m     \u001b[1;32mdef\u001b[0m \u001b[0mcalc_distance\u001b[0m\u001b[1;33m(\u001b[0m\u001b[0mself\u001b[0m\u001b[1;33m,\u001b[0m \u001b[0mpoint\u001b[0m\u001b[1;33m,\u001b[0m \u001b[0mcentroid\u001b[0m\u001b[1;33m)\u001b[0m\u001b[1;33m:\u001b[0m\u001b[1;33m\u001b[0m\u001b[0m\n",
      "\u001b[1;31mTypeError\u001b[0m: 'NoneType' object is not subscriptable"
     ]
    }
   ],
   "source": [
    "testkm = KMeans(2, 100, 0, 50)\n",
    "testkm.draw()\n",
    "testkm.centroid_index"
   ]
  },
  {
   "cell_type": "code",
   "execution_count": null,
   "metadata": {},
   "outputs": [],
   "source": [
    "testkm.iterate()"
   ]
  }
 ],
 "metadata": {
  "kernelspec": {
   "display_name": "Python 3",
   "language": "python",
   "name": "python3"
  },
  "language_info": {
   "codemirror_mode": {
    "name": "ipython",
    "version": 3
   },
   "file_extension": ".py",
   "mimetype": "text/x-python",
   "name": "python",
   "nbconvert_exporter": "python",
   "pygments_lexer": "ipython3",
   "version": "3.5.4"
  }
 },
 "nbformat": 4,
 "nbformat_minor": 2
}
