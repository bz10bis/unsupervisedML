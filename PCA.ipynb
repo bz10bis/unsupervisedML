{
 "cells": [
  {
   "cell_type": "code",
   "execution_count": 110,
   "metadata": {},
   "outputs": [],
   "source": [
    "import numpy as np\n",
    "import matplotlib\n",
    "import sklearn\n",
    "from matplotlib import pyplot as plt\n",
    "from mpl_toolkits.mplot3d import Axes3D\n",
    "from mpl_toolkits.mplot3d import proj3d\n",
    "from matplotlib.patches import FancyArrowPatch\n",
    "from keras.datasets import mnist\n",
    "\n",
    "from sklearn.manifold import TSNE\n",
    "from sklearn.decomposition import PCA\n",
    "from sklearn.discriminant_analysis import LinearDiscriminantAnalysis as LDA\n",
    "from sklearn.model_selection import GridSearchCV\n",
    "from sklearn.svm import SVC\n",
    "\n",
    "def load_mnist_dataset(nbr_sample):\n",
    "    (x_train, y_train), (_,_) = mnist.load_data()\n",
    "    dataset = (np.array([x.flatten() for x in x_train[:nbr_sample]])).T\n",
    "    return x_train,y_train,dataset\n",
    "\n",
    "def load_hand_dataset(path, nbr_sample):\n",
    "    filelist = os.listdir(path)\n",
    "    x_train = np.array([np.array(Image.open(os.getcwd() + '\\\\Hands\\\\normalized_32\\\\' + fname))[:,:,0] for fname in filelist[:nbr_sample]])\n",
    "    y_train = []\n",
    "    dataset = np.array(np.array([x.flatten() for x in x_train]).T, dtype=int)\n",
    "    \n",
    "    return x_train,y_train,dataset\n",
    "\n",
    "class PCA_custom(object):\n",
    "    def __init__(self, t_dim, t_newDim, t_nbr_samples, mode):\n",
    "\n",
    "        self.dim = t_dim\n",
    "        self.new_dim = t_newDim\n",
    "        self.nbr_sample = t_nbr_samples\n",
    "        \n",
    "        if mode == 'mnist':\n",
    "            self.x_train, self.y_train, self.dataset = load_mnist_dataset(self.nbr_sample)\n",
    "            \n",
    "        if mode == 'hand':\n",
    "            self.x_train, self.y_train, self.dataset = load_hand_dataset(\"Hands/normalized_32\", self.nbr_sample)\n",
    "\n",
    "        print('loaded dataset shape : ', self.dataset.shape)\n",
    "        print('dataset : \\n', self.dataset[0])\n",
    "        self.show_images_raw(10)\n",
    "        \n",
    "        #process the covariance matrix\n",
    "        print('dataset shape : ', self.dataset.shape)\n",
    "        self.cov_mat = np.cov(self.dataset)\n",
    "        print('cov matrix shape : ', self.cov_mat.shape)\n",
    "        \n",
    "        #get the eig values/vectors\n",
    "        self.eig_val, self.eig_vec = np.linalg.eig(self.cov_mat)\n",
    "        self.eig_val = np.real(self.eig_val)\n",
    "        self.eig_vec = np.real(self.eig_vec)\n",
    "        \n",
    "        self.sorted_vectors = np.array([x[1] for x in sorted(zip(self.eig_val, self.eig_vec), key=lambda x: x[0])])\n",
    "        self.show_eig_val()\n",
    "        \n",
    "        #extract the \"t_newDim\" best eig values        \n",
    "        self.sorted_vectors = self.sorted_vectors[:t_newDim].T\n",
    "        print('\\nSorted vector shape: ', self.sorted_vectors.shape)\n",
    "        print('\\nkeeping ', t_newDim, 'dimension...')\n",
    "        \n",
    "        #transform the matrix\n",
    "        self.transformed_dataset = np.dot(self.dataset.T, np.transpose(self.sorted_vectors).T)\n",
    "        print('\\n transformed dataset shape : \\n', self.transformed_dataset.shape)\n",
    "        if mode == 'mnist':\n",
    "            self.show_samples()\n",
    "        \n",
    "        #decompress data\n",
    "        self.decompressed = np.dot(self.transformed_dataset, self.sorted_vectors.T)\n",
    "        self.show_images_transformed(10)\n",
    "        \n",
    "    def show_samples(self):\n",
    "        \n",
    "        plt.scatter(self.transformed_dataset[:, 1],\n",
    "                    self.transformed_dataset[:, 0],\n",
    "                    c=self.y_train,\n",
    "                    cmap=plt.cm.get_cmap('nipy_spectral_r', 10))\n",
    "        plt.xlabel('component 2')\n",
    "        plt.ylabel('component 1')\n",
    "        plt.title('projection in 2D')\n",
    "        plt.colorbar()\n",
    "        plt.show()\n",
    "\n",
    "    def show_eig_val(self):\n",
    "        # graph of the eig val\n",
    "        plt.plot(sorted(self.eig_val, reverse=True))\n",
    "        plt.title('Valeurs propres ordonnées')\n",
    "        plt.xlim(0, self.dim ** 2)\n",
    "        plt.show()\n",
    "    \n",
    "    def show_images_raw(self, n):\n",
    "        plt.figure(figsize=(20, 4))\n",
    "        for i,image in enumerate(self.x_train[:n]):\n",
    "            # display original\n",
    "            ax = plt.subplot(2, n, i + 1)\n",
    "            plt.imshow(image.reshape(self.dim, self.dim))\n",
    "            plt.gray()\n",
    "            ax.get_xaxis().set_visible(False)\n",
    "            ax.get_yaxis().set_visible(False)\n",
    "        plt.show()\n",
    "        \n",
    "    def show_images_transformed(self, n):\n",
    "        plt.figure(figsize=(20, 4))\n",
    "        for i,image in enumerate(self.decompressed[:10]) :\n",
    "            # display original\n",
    "            ax = plt.subplot(2, n, i + 1)\n",
    "            plt.imshow(np.array(image, dtype=int).reshape(self.dim, self.dim))\n",
    "            plt.gray()\n",
    "            ax.get_xaxis().set_visible(False)\n",
    "            ax.get_yaxis().set_visible(False)\n",
    "        plt.show()"
   ]
  },
  {
   "cell_type": "code",
   "execution_count": 112,
   "metadata": {
    "collapsed": true
   },
   "outputs": [
    {
     "name": "stdout",
     "output_type": "stream",
     "text": [
      "loaded dataset shape :  (1024, 10000)\ndataset : \n [253 255 255 ..., 255 255 255]\nFirst 5 images :\nRAW IMAGES :\n\n"
     ]
    },
    {
     "data": {
      "image/png": "[encoded data removed]",
      "text/plain": [
       "<matplotlib.figure.Figure at 0x1c9a073f7f0>"
      ]
     },
     "metadata": {},
     "output_type": "display_data"
    },
    {
     "name": "stdout",
     "output_type": "stream",
     "text": [
      "dataset shape :  (1024, 10000)\n"
     ]
    },
    {
     "name": "stdout",
     "output_type": "stream",
     "text": [
      "cov matrix shape :  (1024, 1024)\n"
     ]
    },
    {
     "data": {
      "image/png": "[encoded data removed]",
      "text/plain": [
       "<matplotlib.figure.Figure at 0x1c99a5330f0>"
      ]
     },
     "metadata": {},
     "output_type": "display_data"
    },
    {
     "name": "stdout",
     "output_type": "stream",
     "text": [
      "\nSorted vector shape:  (1024, 1024)\n\nProjection in :  1024 dimension...\n"
     ]
    },
    {
     "name": "stdout",
     "output_type": "stream",
     "text": [
      "\n transformed dataset shape : \n (10000, 1024)\n"
     ]
    },
    {
     "name": "stdout",
     "output_type": "stream",
     "text": [
      "TRANSFORMED IMAGES :\n\n"
     ]
    },
    {
     "data": {
      "image/png": "[encoded data removed]",
      "text/plain": [
       "<matplotlib.figure.Figure at 0x1c995ee6f60>"
      ]
     },
     "metadata": {},
     "output_type": "display_data"
    },
    {
     "data": {
      "text/plain": [
       "<__main__.PCA_custom at 0x1c995f5db38>"
      ]
     },
     "execution_count": 112,
     "metadata": {},
     "output_type": "execute_result"
    }
   ],
   "source": [
    "from PIL import Image\n",
    "import os\n",
    "\n",
    "#PCA_custom(size of images, nbr of dimension at the end, nbr of samples)\n",
    "#PCA_custom(28, 50, 60000, mode='mnist')\n",
    "PCA_custom(32, 1024, 10000, mode='hand')"
   ]
  },
  {
   "cell_type": "code",
   "execution_count": null,
   "metadata": {},
   "outputs": [],
   "source": [
    ""
   ]
  }
 ],
 "metadata": {
  "kernelspec": {
   "display_name": "Python 3",
   "language": "python",
   "name": "python3"
  },
  "language_info": {
   "codemirror_mode": {
    "name": "ipython",
    "version": 3.0
   },
   "file_extension": ".py",
   "mimetype": "text/x-python",
   "name": "python",
   "nbconvert_exporter": "python",
   "pygments_lexer": "ipython3",
   "version": "3.6.2"
  }
 },
 "nbformat": 4,
 "nbformat_minor": 0
}