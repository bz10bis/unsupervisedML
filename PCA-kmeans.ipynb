{
 "cells": [
  {
   "cell_type": "code",
   "execution_count": 21,
   "metadata": {},
   "outputs": [
    {
     "name": "stdout",
     "output_type": "stream",
     "text": [
      "('proportion : ', {0: 2892, 1: 2788, 2: 2813, 3: 2583})\n",
      "('proportion : ', {0: 2892, 1: 2788, 2: 2813, 3: 2583})\n",
      "('proportion : ', {0: 2892, 1: 2788, 2: 2813, 3: 2583})\n",
      "('proportion : ', {0: 2892, 1: 2788, 2: 2813, 3: 2583})\n",
      "#################### KMEANS ####################\n",
      "data shape\tnb clusters\tnbepochs\n",
      "--------------------------------------------------\n",
      "(10000L, 1024L)\t4\t\t50\n",
      "--------------------------------------------------\n",
      "(1024L, 4L)\n",
      "--------------------------------------------------\n",
      "FINAL [4174 1414 1184 3228]\n",
      "Elapse time: 30.33 s\n"
     ]
    },
    {
     "data": {
      "image/png": "[encoded data removed]",
      "text/plain": [
       "<Figure size 432x288 with 1 Axes>"
      ]
     },
     "metadata": {},
     "output_type": "display_data"
    }
   ],
   "source": [
    "import numpy as np\n",
    "import matplotlib.pyplot as plt\n",
    "import time\n",
    "import os\n",
    "from PIL import Image\n",
    "import pandas as pd\n",
    "from matplotlib import pyplot as plt\n",
    "\n",
    "\"\"\"## Chargement des données\"\"\"\n",
    "\n",
    "def get_labels(file):\n",
    "    origin = open(file,\"r\")\n",
    "    classes = []\n",
    "    choices = ['dorsal right', 'dorsal left', 'palmar right', 'palmar left']\n",
    "    for idx, line in enumerate(origin):\n",
    "        if idx == 0:\n",
    "            continue\n",
    "        else:\n",
    "            try:\n",
    "                id, age, gender, skinColor, accessories, nailPolish, aspectOfHand, imageName, irregularities = line.split(',')\n",
    "                if aspectOfHand.lower().strip() in choices:\n",
    "                    classes.append(choices.index(aspectOfHand))\n",
    "            except Exception as e:\n",
    "                print(e)\n",
    "                continue\n",
    "    unique, counts = np.unique(classes, return_counts=True)\n",
    "    print('proportions : ', dict(zip(unique, counts)))\n",
    "    return np.asarray(classes)\n",
    "\n",
    "def load_hand_dataset(path, nbr_sample):\n",
    "    filelist = os.listdir(path)\n",
    "    x_train = np.array([np.array(Image.open(os.getcwd() + '\\\\Hands\\\\normalized_32\\\\' + fname))[:, :, 0] for fname in\n",
    "                        filelist[:nbr_sample]], dtype=int)\n",
    "    \n",
    "    y_train = get_labels(os.getcwd()+ '\\\\HandInfo.txt')[:nbr_sample]\n",
    "    dataset = np.array(np.array([x.flatten() for x in x_train]).T, dtype=int)\n",
    "    return x_train, y_train, dataset\n",
    "\n",
    "\n",
    "class PCA_custom(object):\n",
    "    def __init__(self, t_dim, t_newDim, t_nbr_samples, mode):\n",
    "\n",
    "        self.dim = t_dim\n",
    "        self.new_dim = t_newDim\n",
    "        self.nbr_sample = t_nbr_samples\n",
    "\n",
    "        if mode == 'mnist':\n",
    "            self.x_train, self.y_train, self.dataset = load_mnist_dataset(self.nbr_sample)\n",
    "\n",
    "        if mode == 'hand':\n",
    "            self.x_train, self.y_train, self.dataset = load_hand_dataset(\"Hands/normalized_32\", self.nbr_sample)\n",
    "        \n",
    "        # process the covariance matrix\n",
    "        self.cov_mat = np.cov(self.dataset)\n",
    "\n",
    "        # get the eig values/vectors\n",
    "        self.eig_val, self.eig_vec = np.linalg.eig(self.cov_mat)\n",
    "        self.eig_val = np.real(self.eig_val)\n",
    "        self.eig_vec = np.real(self.eig_vec)\n",
    "\n",
    "        self.sorted_vectors = np.array([x[1] for x in sorted(zip(self.eig_val, self.eig_vec), key=lambda x: x[0])])\n",
    "\n",
    "        # extract the \"t_newDim\" best eig values\n",
    "        self.sorted_vectors = self.sorted_vectors[:t_newDim].T\n",
    "\n",
    "        # transform the matrix\n",
    "        self.transformed_dataset = np.dot(self.dataset.T, np.transpose(self.sorted_vectors).T)\n",
    "\n",
    "        # decompress data\n",
    "        self.decompressed = np.dot(self.transformed_dataset, self.sorted_vectors.T)\n",
    "\n",
    "\n",
    "data = PCA_custom(32, 1024, 10000, mode='hand').decompressed\n",
    "data = data.reshape(10000, 1024)\n",
    "labels = get_labels(os.getcwd()+ '\\\\HandInfo.txt')[:data.shape[0]]\n",
    "\n",
    "\"\"\"## Déclaration des parametres\"\"\"\n",
    "\n",
    "# @title Parametres\n",
    "epochs = 50  # @param {type:\"integer\"}\n",
    "clusters = 4  # @param {type:\"slider\", min:0, max:20, step:1}\n",
    "\n",
    "\"\"\"## Définition de la fonction Kmeans\"\"\"\n",
    "\n",
    "def kmean(data, k, epochs, labels):   \n",
    "    start_time = time.time()\n",
    "    print(\"#\" * 20 + \" KMEANS \" + \"#\" * 20)\n",
    "    print(\"data shape\\tnb clusters\\tnbepochs\")\n",
    "    print(\"-\" * 50)\n",
    "    print(\"{}\\t{}\\t\\t{}\".format(data.shape, k, epochs))\n",
    "    print(\"-\" * 50)\n",
    "    n = data.shape[0]\n",
    "    nf = data.shape[1]\n",
    "    rows = np.arange(n)\n",
    "    c_idx = np.random.choice(n, k)\n",
    "    centroids = data[c_idx].T\n",
    "    print(centroids.shape)\n",
    "    repeated_data = np.stack([data] * k, axis=-1)\n",
    "    \n",
    "    old_count = []\n",
    "    continue_training = True\n",
    "    i = 0\n",
    "    \n",
    "    while continue_training:\n",
    "        local_time = time.time()\n",
    "        distances = np.sqrt(np.sum(np.square(repeated_data - centroids), axis=1))\n",
    "        assignments = np.argmin(distances, axis=-1)\n",
    "        counts = np.bincount(assignments)\n",
    "        concat_matx = np.zeros([n, k, nf])\n",
    "        concat_matx[rows, assignments] = data\n",
    "        centroids = concat_matx.sum(axis=0).T / counts.clip(min=1).T\n",
    "#         print(\"iteration: {} {} -- t:{} s\".format(i, counts, round(time.time() - local_time, 2)))\n",
    "        if(i>=epochs or np.array_equal(old_count, counts)):\n",
    "            continue_training = False\n",
    "        old_count = counts\n",
    "        i += 1\n",
    "        \n",
    "    print(\"-\" * 50)\n",
    "    print(\"FINAL {}\".format(counts))\n",
    "    print(\"Elapse time: {} s\".format(round(time.time() - start_time, 2)))\n",
    "    \n",
    "    hist = list()\n",
    "    for c in range(k):\n",
    "        hist.append([])\n",
    "    for i in range(len(labels)):\n",
    "        hist[labels[i]].append(assignments[i])\n",
    "    plt.hist(hist, label=['dorsal right', 'dorsal left', 'palmar right', 'palmar left'])\n",
    "    plt.legend()\n",
    "    plt.show()\n",
    "\n",
    "\n",
    "\"\"\"## Déclaration des parametres\"\"\"\n",
    "\"\"\"## 4 clusters, pca -> 1024\"\"\"\n",
    "data = PCA_custom(32, 1024, 10000, mode='hand').decompressed\n",
    "data = data.reshape(10000, 1024)\n",
    "labels = get_labels(os.getcwd()+ '\\\\HandInfo.txt')[:data.shape[0]]\n",
    "# @title Parametres\n",
    "epochs = 50  # @param {type:\"integer\"}\n",
    "clusters = 4  # @param {type:\"slider\", min:0, max:20, step:1}\n",
    "\n",
    "kmean(data, clusters, epochs, labels)\n"
   ]
  },
  {
   "cell_type": "code",
   "execution_count": 11,
   "metadata": {},
   "outputs": [
    {
     "name": "stdout",
     "output_type": "stream",
     "text": [
      "#################### KMEANS ####################\n",
      "data shape\tnb clusters\tnbepochs\n",
      "--------------------------------------------------\n",
      "(10000L, 1024L)\t4\t\t50\n",
      "--------------------------------------------------\n",
      "(1024L, 4L)\n",
      "--------------------------------------------------\n",
      "FINAL [2914 1133 3047 2906]\n",
      "Elapse time: 48.32 s\n"
     ]
    },
    {
     "data": {
      "image/png": "[encoded data removed]",
      "text/plain": [
       "<Figure size 432x288 with 1 Axes>"
      ]
     },
     "metadata": {},
     "output_type": "display_data"
    }
   ],
   "source": [
    "\"\"\"## 4 clusters, pca -> 512\"\"\"\n",
    "\n",
    "data = PCA_custom(32, 512, 10000, mode='hand').decompressed\n",
    "data = data.reshape(10000, 1024)\n",
    "labels = get_labels(os.getcwd()+ '\\\\HandInfo.txt')[:data.shape[0]]\n",
    "# @title Parametres\n",
    "epochs = 50  # @param {type:\"integer\"}\n",
    "clusters = 4  # @param {type:\"slider\", min:0, max:20, step:1}\n",
    "\n",
    "kmean(data, clusters, epochs, labels)"
   ]
  },
  {
   "cell_type": "code",
   "execution_count": 13,
   "metadata": {},
   "outputs": [
    {
     "name": "stdout",
     "output_type": "stream",
     "text": [
      "#################### KMEANS ####################\n",
      "data shape\tnb clusters\tnbepochs\n",
      "--------------------------------------------------\n",
      "(10000L, 1024L)\t6\t\t50\n",
      "--------------------------------------------------\n",
      "(1024L, 6L)\n",
      "--------------------------------------------------\n",
      "FINAL [2794 2022  736 1066 1279 2103]\n",
      "Elapse time: 47.47 s\n"
     ]
    },
    {
     "data": {
      "image/png": "[encoded data removed]",
      "text/plain": [
       "<Figure size 432x288 with 1 Axes>"
      ]
     },
     "metadata": {},
     "output_type": "display_data"
    }
   ],
   "source": [
    "\"\"\"## 6 clusters, pca -> 512\"\"\"\n",
    "\n",
    "data = PCA_custom(32, 512, 10000, mode='hand').decompressed\n",
    "data = data.reshape(10000, 1024)\n",
    "labels = get_labels(os.getcwd()+ '\\\\HandInfo.txt')[:data.shape[0]]\n",
    "# @title Parametres\n",
    "epochs = 50  # @param {type:\"integer\"}\n",
    "clusters = 6  # @param {type:\"slider\", min:0, max:20, step:1}\n",
    "\n",
    "kmean(data, clusters, epochs, labels)"
   ]
  },
  {
   "cell_type": "code",
   "execution_count": 14,
   "metadata": {},
   "outputs": [
    {
     "name": "stdout",
     "output_type": "stream",
     "text": [
      "#################### KMEANS ####################\n",
      "data shape\tnb clusters\tnbepochs\n",
      "--------------------------------------------------\n",
      "(10000L, 1024L)\t6\t\t50\n",
      "--------------------------------------------------\n",
      "(1024L, 6L)\n",
      "--------------------------------------------------\n",
      "FINAL [1137 1327 2718  697 2088 2033]\n",
      "Elapse time: 41.31 s\n"
     ]
    },
    {
     "data": {
      "image/png": "[encoded data removed]",
      "text/plain": [
       "<Figure size 432x288 with 1 Axes>"
      ]
     },
     "metadata": {},
     "output_type": "display_data"
    }
   ],
   "source": [
    "\"\"\"## 6 clusters, pca -> 1024\"\"\"\n",
    "\n",
    "data = PCA_custom(32, 1024, 10000, mode='hand').decompressed\n",
    "data = data.reshape(10000, 1024)\n",
    "labels = get_labels(os.getcwd()+ '\\\\HandInfo.txt')[:data.shape[0]]\n",
    "# @title Parametres\n",
    "epochs = 50  # @param {type:\"integer\"}\n",
    "clusters = 6  # @param {type:\"slider\", min:0, max:20, step:1}\n",
    "\n",
    "kmean(data, clusters, epochs, labels)"
   ]
  },
  {
   "cell_type": "code",
   "execution_count": 15,
   "metadata": {},
   "outputs": [
    {
     "name": "stdout",
     "output_type": "stream",
     "text": [
      "#################### KMEANS ####################\n",
      "data shape\tnb clusters\tnbepochs\n",
      "--------------------------------------------------\n",
      "(10000L, 1024L)\t6\t\t50\n",
      "--------------------------------------------------\n",
      "(1024L, 6L)\n",
      "--------------------------------------------------\n",
      "FINAL [2911 2205 1754 1217  574 1339]\n",
      "Elapse time: 77.9 s\n"
     ]
    },
    {
     "data": {
      "image/png": "[encoded data removed]",
      "text/plain": [
       "<Figure size 432x288 with 1 Axes>"
      ]
     },
     "metadata": {},
     "output_type": "display_data"
    }
   ],
   "source": [
    "\"\"\"## 6 clusters, pca -> 128\"\"\"\n",
    "\n",
    "data = PCA_custom(32, 128, 10000, mode='hand').decompressed\n",
    "data = data.reshape(10000, 1024)\n",
    "labels = get_labels(os.getcwd()+ '\\\\HandInfo.txt')[:data.shape[0]]\n",
    "# @title Parametres\n",
    "epochs = 50  # @param {type:\"integer\"}\n",
    "clusters = 6  # @param {type:\"slider\", min:0, max:20, step:1}\n",
    "\n",
    "kmean(data, clusters, epochs, labels)"
   ]
  },
  {
   "cell_type": "code",
   "execution_count": 17,
   "metadata": {},
   "outputs": [
    {
     "name": "stdout",
     "output_type": "stream",
     "text": [
      "#################### KMEANS ####################\n",
      "data shape\tnb clusters\tnbepochs\n",
      "--------------------------------------------------\n",
      "(10000L, 1024L)\t4\t\t50\n",
      "--------------------------------------------------\n",
      "(1024L, 4L)\n",
      "--------------------------------------------------\n",
      "FINAL [2747 3311 2884 1058]\n",
      "Elapse time: 55.33 s\n"
     ]
    },
    {
     "data": {
      "image/png": "[encoded data removed]",
      "text/plain": [
       "<Figure size 432x288 with 1 Axes>"
      ]
     },
     "metadata": {},
     "output_type": "display_data"
    }
   ],
   "source": [
    "\"\"\"## 4 clusters, pca -> 128\"\"\"\n",
    "\n",
    "data = PCA_custom(32, 128, 10000, mode='hand').decompressed\n",
    "data = data.reshape(10000, 1024)\n",
    "labels = get_labels(os.getcwd()+ '\\\\HandInfo.txt')[:data.shape[0]]\n",
    "# @title Parametres\n",
    "epochs = 50  # @param {type:\"integer\"}\n",
    "clusters = 4  # @param {type:\"slider\", min:0, max:20, step:1}\n",
    "\n",
    "kmean(data, clusters, epochs, labels)"
   ]
  },
  {
   "cell_type": "code",
   "execution_count": null,
   "metadata": {},
   "outputs": [],
   "source": []
  }
 ],
 "metadata": {
  "kernelspec": {
   "display_name": "Python 3",
   "language": "python",
   "name": "python3"
  },
  "language_info": {
   "codemirror_mode": {
    "name": "ipython",
    "version": 2
   },
   "file_extension": ".py",
   "mimetype": "text/x-python",
   "name": "python",
   "nbconvert_exporter": "python",
   "pygments_lexer": "ipython2",
   "version": "2.7.14"
  }
 },
 "nbformat": 4,
 "nbformat_minor": 2
}
